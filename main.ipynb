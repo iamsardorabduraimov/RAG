{
 "cells": [
  {
   "cell_type": "markdown",
   "metadata": {},
   "source": [
    "# Imports"
   ]
  },
  {
   "cell_type": "code",
   "execution_count": 1,
   "metadata": {},
   "outputs": [],
   "source": [
    "import os\n",
    "import getpass\n",
    "from langchain_community.llms import Ollama\n",
    "from langchain.vectorstores import FAISS\n",
    "from langchain.embeddings import OllamaEmbeddings\n",
    "from langchain.text_splitter import RecursiveCharacterTextSplitter\n",
    "from langchain.chains import RetrievalQA\n",
    "from langchain_community.document_loaders import PyPDFLoader\n",
    "from langchain_community.document_loaders.csv_loader import CSVLoader\n",
    "from langchain.vectorstores import Chroma\n",
    "from langchain_core.prompts import ChatPromptTemplate\n",
    "from langchain.chains import LLMChain\n",
    "from langchain_core.prompts import PromptTemplate\n",
    "from langchain_community.embeddings import HuggingFaceEmbeddings\n",
    "from langchain_ollama import OllamaEmbeddings\n",
    "from langchain_ollama import OllamaLLM\n",
    "from langchain_openai import OpenAIEmbeddings\n",
    "from langchain.chat_models import init_chat_model, ChatOpenAI\n",
    "from langchain_core.messages import HumanMessage"
   ]
  },
  {
   "cell_type": "markdown",
   "metadata": {},
   "source": [
    "# Code"
   ]
  },
  {
   "cell_type": "markdown",
   "metadata": {},
   "source": [
    "### Loading documents\n"
   ]
  },
  {
   "cell_type": "code",
   "execution_count": 2,
   "metadata": {},
   "outputs": [
    {
     "name": "stdout",
     "output_type": "stream",
     "text": [
      "Total characters: 1705\n"
     ]
    }
   ],
   "source": [
    "# pdf_files = [\"store/doc1.pdf\", \"store/doc2.pdf\",\"store/DeepSeek_V3.pdf\"]\n",
    "pdf_files = [\"store/DeepSeek_V3.pdf\"]\n",
    "#csv_files = [\"store/cards.csv\"]\n",
    "\n",
    "pdf_docs = []\n",
    "for pdf in pdf_files:\n",
    "    loader = PyPDFLoader(pdf)\n",
    "    pdf_docs.extend(loader.load())\n",
    "'''\n",
    "csv_docs = []\n",
    "for csv in csv_files:\n",
    "    loader = CSVLoader(file_path=csv, encoding='utf-8')\n",
    "    csv_docs.extend(loader.load())\n",
    "'''\n",
    "#all_docs = pdf_docs + csv_docs\n",
    "all_docs = pdf_docs\n",
    "\n",
    "for i in range(len(all_docs)):\n",
    "    all_docs[i].page_content = all_docs[i].page_content.replace(\"\\n\", \"\").replace(\"\\xa0\", \" \")\n",
    "\n",
    "\n",
    "\n",
    "print(f\"Total characters: {len(all_docs[0].page_content)}\")"
   ]
  },
  {
   "cell_type": "markdown",
   "metadata": {},
   "source": [
    "### Splitting documents"
   ]
  },
  {
   "cell_type": "code",
   "execution_count": 5,
   "metadata": {},
   "outputs": [
    {
     "name": "stdout",
     "output_type": "stream",
     "text": [
      "Split blog post into 103 sub-documents.\n"
     ]
    }
   ],
   "source": [
    "splitter = RecursiveCharacterTextSplitter(\n",
    "    chunk_size=2000, \n",
    "    chunk_overlap=400, \n",
    "    add_start_index=True \n",
    ")   \n",
    "all_splits = splitter.split_documents(all_docs)\n",
    "\n",
    "print(f\"Split blog post into {len(all_splits)} sub-documents.\")"
   ]
  },
  {
   "cell_type": "markdown",
   "metadata": {},
   "source": [
    "### Creating Embeddings"
   ]
  },
  {
   "cell_type": "code",
   "execution_count": null,
   "metadata": {},
   "outputs": [
    {
     "data": {
      "text/plain": [
       "['2eed7f51-3d0c-4348-a80d-dc4534f66075',\n",
       " '634f7d2e-d496-4a6f-bc9c-0ca5e47b8de7',\n",
       " '362fa1c9-bde1-470e-a522-dd1b80198061',\n",
       " 'b9db6dad-73db-422c-a966-927530f79c5b',\n",
       " '8caed21a-dedc-4dbc-b062-43234d84b324',\n",
       " '08787650-12dc-4c92-a812-036c29f443e8',\n",
       " '55387876-eb72-4163-ae72-4b79ab9d9f0f',\n",
       " '47ff7840-f1c2-4835-8a8b-20495ce394bd',\n",
       " 'a08bf25f-da52-4061-8c5d-56d66d106524',\n",
       " 'b36dd642-1754-4630-b136-4a5651be4373',\n",
       " '49430d4c-0a45-4e75-b290-128edae839a8',\n",
       " 'c19a5a75-c1f5-4e83-80a5-0b56c83e0f15',\n",
       " 'bcd65f0c-5ea4-4f49-b067-3321a599ef91',\n",
       " '874947e2-aef6-4b27-808d-7155a54931f1',\n",
       " '1850089d-2142-4521-89e8-52421ac3907b',\n",
       " 'fe0c201b-2ab7-4ce6-80a0-c5d69c48a7f6',\n",
       " '4fa4a8c2-f52d-42ad-afd9-cef6e9cd15d1',\n",
       " '773e5456-6a84-48b8-b65a-4a69bc7b9797',\n",
       " 'c4e5948c-a6e6-48e5-a566-41491831b82d',\n",
       " '2170a0d7-a1e9-4888-9a26-d108cf4d37e8',\n",
       " 'd3e1eb41-90e3-49ca-8dfd-77650765b3bc',\n",
       " '0b92f320-d95d-4407-b3f4-3a898784158a',\n",
       " 'e6d826f3-ee04-4c60-bf4f-70c796a642e4',\n",
       " '84e3b009-9626-4de4-98dd-3183a3d1e41b',\n",
       " '3f1f3a52-48fe-433d-a9ac-e51ec8ff294c',\n",
       " '1f1919a4-7447-474d-9934-4e2ab8577f96',\n",
       " '5b1d116f-2ad6-4416-857b-e7c80500234f',\n",
       " '2b94714c-29e3-4636-bbb0-9bd1784d71f9',\n",
       " '3f131df5-158e-4f47-8f01-89eadddc0f59',\n",
       " '3e7728cd-e7f9-4219-b148-0a5675a1d24f',\n",
       " '3fe2e0e2-4642-40a4-bb65-00134c185f17',\n",
       " '472091a4-416e-4db0-89b0-3d3143fd5273',\n",
       " '82bd877a-11fb-467e-b19d-8ac78994f7f0',\n",
       " '1f9c44dd-ca77-4482-9ee1-6e722f57a38d',\n",
       " '37c21aab-2cec-4012-a94e-b0a3926ee25c',\n",
       " 'c3de076c-8ec3-4710-af01-d6a9b13684eb',\n",
       " '55132176-ce94-4f19-bc9c-d2a23b6570b5',\n",
       " '0b50355a-1a90-4fac-b057-47121a6ec696',\n",
       " 'dab2de45-184f-4e3c-a6fa-1cc946335536',\n",
       " '509c9b65-f972-45b9-b4b5-08d3ce75959b',\n",
       " '34a4e46e-1ff8-4b08-a8d2-00653bbceb28',\n",
       " '7cedf0d4-0469-4de0-9886-f46547510dc9',\n",
       " '66cdb1ac-a7c3-4028-8a68-bd59246f62eb',\n",
       " 'f89a5ae6-b590-4498-a96a-d808de03cd94',\n",
       " 'a051cb7b-8645-442a-a671-8dc5b94509a1',\n",
       " 'b039627d-0787-4e9b-9e8e-b0a14926e9b4',\n",
       " 'ca165616-4663-4f87-82ab-4abfc9326f45',\n",
       " '70c0283d-2709-49c4-b08a-7743d956cf6e',\n",
       " '6eedecad-0536-4ea3-8cbf-8c22346693f0',\n",
       " '2421a193-d5fa-4469-a60f-50486232758f',\n",
       " 'fa92a319-14c7-4c6e-be3d-271589752f15',\n",
       " '23525579-ae0d-4e48-bfa7-326edcd175bd',\n",
       " 'b5b1c3ce-bf6a-41ec-bfb6-e9cad0955f3c',\n",
       " '9424843f-3476-45f7-92c5-a7ac5da830c5',\n",
       " 'fb538f85-1e91-4205-9e60-2751ddbf761c',\n",
       " '466acc42-cd9d-4e97-a68b-53d53bb9e8b8',\n",
       " '677bd48b-241c-47a6-bfc7-ca5f30f60f0b',\n",
       " '22d0e997-c4d9-4a6c-a352-e47e6a7ae9ab',\n",
       " '2dcb0938-3b18-4e9a-9ce9-cd491bc044e6',\n",
       " '9843d351-a94c-421e-94c4-5ec314673df4',\n",
       " 'c4f67784-3383-4c45-8a7f-dcbd1e1e7fef',\n",
       " 'e19b4a1f-2f5b-45c5-9ccd-b73639e690c1',\n",
       " 'f357b831-dc62-45fe-bf7a-a589b7d1bbbb',\n",
       " 'ed32735c-fc89-42bc-84b5-84bd14b4cabb',\n",
       " '9c9b8d64-c8fc-4ce3-b87c-7ffeb1459dfd',\n",
       " '4292dbfb-3617-4a62-80a9-2cd0bd1c683c',\n",
       " 'bb94f075-d001-4b85-9a12-0e156c39f542',\n",
       " '91ee2686-f2c4-47a0-808d-f22e8da8ef76',\n",
       " '7e22a8d6-7cfe-4d68-a31a-0fd6d11c1941',\n",
       " '9db5c5e9-82a1-4e86-a235-8976f4c8f1ee',\n",
       " '147e26a3-f840-4e37-b90c-0e04e02e9d60',\n",
       " '537df4e1-11e2-4a2f-917d-67797e8d25b4',\n",
       " 'a3d016f0-3d3c-450e-81c3-f321910c7273',\n",
       " '365bbe80-f3ad-450a-8f71-48b5c9a6f425',\n",
       " 'df00036b-034a-480e-84ce-d5c9429f470e',\n",
       " 'e2560c61-13fd-40c3-98df-9a7d8b163344',\n",
       " '4fce7419-a7b7-4e30-a124-f70bd4eb6a8a',\n",
       " '99dd16e7-9e76-4868-a584-6cc2ddeb3ccc',\n",
       " 'd3fbbd11-aa91-400f-b33e-a49d8564e607',\n",
       " '8e455586-3b92-4f93-be2a-4074123ccf8f',\n",
       " 'ecf5e72e-9f29-474a-b2c0-74ce5694c61c',\n",
       " 'bb6ef786-b24f-4487-86c3-a4908df8cebd',\n",
       " '75d983b7-827d-441a-82ea-a52042bb9ef9',\n",
       " '41f35f43-7ce0-437e-b5b2-869c8cc865c4',\n",
       " 'ed7ca814-ee46-46b3-aae0-863769d387d3',\n",
       " '04d1f1e4-368c-4cb6-a02b-05eb824cf1b0',\n",
       " '9f44939e-6382-4214-8fb5-4294e2dbb8b7',\n",
       " '93c017b5-4098-43a9-b059-3754a3b973fd',\n",
       " '3c840307-2bdc-45b8-b497-6f7b64d9ef96',\n",
       " '3b37f3d4-d8b3-4051-a3e9-87e0066cca03',\n",
       " '5d82908b-0c7b-49c3-9f48-94b6a22e16cf',\n",
       " '292eea9f-fdc6-4573-8d0a-687282559d96',\n",
       " 'be86780d-5f26-4af8-9d43-f48bec1e6b54',\n",
       " 'e14b5648-531c-49f5-8521-0ad22c53e075',\n",
       " 'a06bb6f4-1afa-49ba-8584-617194d80670',\n",
       " '628ec239-71be-4f5a-89c2-6832f1a775a2',\n",
       " '5c748896-7d79-47ea-910e-f5c3c6ddc3d6',\n",
       " 'd7a1ca8b-7bcf-497f-9667-b637a90ad2ae',\n",
       " 'bbcfc40a-10e1-49ec-bd60-11c03e65e70b',\n",
       " 'b292f3c2-b972-4e7f-965b-d19a15962812',\n",
       " 'cb50e8c6-ad00-4506-b0bb-db32bb5ddd0d',\n",
       " '4972739d-44c5-45fa-941d-5f290b24ab90',\n",
       " 'c964ccdf-5808-48db-90d5-e4cbd507f86f']"
      ]
     },
     "execution_count": 6,
     "metadata": {},
     "output_type": "execute_result"
    }
   ],
   "source": [
    "embeddings = OpenAIEmbeddings(model=\"text-embedding-3-large\")\n",
    "vectorstore = Chroma(persist_directory=\"./chroma_db_open\", embedding_function=embeddings)\n",
    "vectorstore.add_documents(all_splits)"
   ]
  },
  {
   "cell_type": "code",
   "execution_count": 27,
   "metadata": {},
   "outputs": [],
   "source": [
    "input = \"Какой сегодня день недели?\"\n",
    "context = vectorstore.similarity_search(input, k = 5)\n",
    "#for doc in context:\n",
    "#   print(doc)\n",
    "context=\"\\n\\n\".join([doc.page_content for doc in context])"
   ]
  },
  {
   "cell_type": "markdown",
   "metadata": {},
   "source": [
    "### Model response"
   ]
  },
  {
   "cell_type": "code",
   "execution_count": 28,
   "metadata": {},
   "outputs": [
    {
     "name": "stdout",
     "output_type": "stream",
     "text": [
      "Я не знаю.\n"
     ]
    }
   ],
   "source": [
    "model = ChatOpenAI(model=\"gpt-4o\")\n",
    "\n",
    "prompt_template = PromptTemplate(\n",
    "    input_variables=[\"context\", \"question\"],\n",
    "    template=\"Ты помощник, который отвечает на вопросы на английском.\\n\\n---\\n\\nИспользуя контекст ниже, ответь на вопрос.\\\n",
    "              Если ответ не найден в документе, ответь 'Я не знаю.'\\\n",
    "              Если нашёл больше одной информации, опиши каждую подробно.\\n\\n---\\n\\nКонтекст:\\n{context}\\n\\nВопрос: {question}\\n\\nОтвет:\"\n",
    ")\n",
    "\n",
    "prompt = prompt_template.format(context=context, question=input)\n",
    "\n",
    "response = model.invoke([HumanMessage(content=prompt)])\n",
    "\n",
    "print(response.content)"
   ]
  }
 ],
 "metadata": {
  "kernelspec": {
   "display_name": ".venv",
   "language": "python",
   "name": "python3"
  },
  "language_info": {
   "codemirror_mode": {
    "name": "ipython",
    "version": 3
   },
   "file_extension": ".py",
   "mimetype": "text/x-python",
   "name": "python",
   "nbconvert_exporter": "python",
   "pygments_lexer": "ipython3",
   "version": "3.12.7"
  }
 },
 "nbformat": 4,
 "nbformat_minor": 2
}
