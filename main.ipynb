{
 "cells": [
  {
   "cell_type": "markdown",
   "metadata": {},
   "source": [
    "# Imports"
   ]
  },
  {
   "cell_type": "code",
   "execution_count": 3,
   "metadata": {},
   "outputs": [],
   "source": [
    "import os\n",
    "import getpass\n",
    "from langchain.text_splitter import RecursiveCharacterTextSplitter\n",
    "from langchain_community.document_loaders import PyPDFLoader\n",
    "from langchain_community.document_loaders.csv_loader import CSVLoader\n",
    "from langchain.vectorstores import Chroma\n",
    "from langchain_core.prompts import ChatPromptTemplate\n",
    "from langchain.chains import LLMChain\n",
    "from langchain_core.prompts import PromptTemplate\n",
    "from langchain_openai import OpenAIEmbeddings\n",
    "from langchain.chat_models import ChatOpenAI\n",
    "from langchain_core.messages import HumanMessage"
   ]
  },
  {
   "cell_type": "markdown",
   "metadata": {},
   "source": [
    "# Code"
   ]
  },
  {
   "cell_type": "markdown",
   "metadata": {},
   "source": [
    "### Loading documents\n"
   ]
  },
  {
   "cell_type": "code",
   "execution_count": null,
   "metadata": {},
   "outputs": [],
   "source": [
    "# pdf_files = [\"store/doc1.pdf\", \"store/doc2.pdf\",\"store/DeepSeek_V3.pdf\"]\n",
    "pdf_files = [\"store/DeepSeek_V3.pdf\"]\n",
    "#csv_files = [\"store/cards.csv\"]\n",
    "\n",
    "pdf_docs = []\n",
    "for pdf in pdf_files:\n",
    "    loader = PyPDFLoader(pdf)\n",
    "    pdf_docs.extend(loader.load())\n",
    "'''\n",
    "csv_docs = []\n",
    "for csv in csv_files:\n",
    "    loader = CSVLoader(file_path=csv, encoding='utf-8')\n",
    "    csv_docs.extend(loader.load())\n",
    "'''\n",
    "#all_docs = pdf_docs + csv_docs\n",
    "all_docs = pdf_docs\n",
    "\n",
    "for i in range(len(all_docs)):\n",
    "    all_docs[i].page_content = all_docs[i].page_content.replace(\"\\n\", \"\").replace(\"\\xa0\", \" \")\n",
    "\n",
    "\n",
    "\n",
    "print(f\"Total characters: {len(all_docs[0].page_content)}\")"
   ]
  },
  {
   "cell_type": "markdown",
   "metadata": {},
   "source": [
    "### Splitting documents"
   ]
  },
  {
   "cell_type": "code",
   "execution_count": null,
   "metadata": {},
   "outputs": [],
   "source": [
    "splitter = RecursiveCharacterTextSplitter(\n",
    "    chunk_size=2000, \n",
    "    chunk_overlap=400, \n",
    "    add_start_index=True \n",
    ")   \n",
    "all_splits = splitter.split_documents(all_docs)\n",
    "\n",
    "print(f\"Split blog post into {len(all_splits)} sub-documents.\")"
   ]
  },
  {
   "cell_type": "markdown",
   "metadata": {},
   "source": [
    "### Creating Embeddings"
   ]
  },
  {
   "cell_type": "code",
   "execution_count": null,
   "metadata": {},
   "outputs": [],
   "source": [
    "if not os.environ.get(\"OPENAI_API_KEY\"):\n",
    "  os.environ[\"OPENAI_API_KEY\"] = \"your-openai-api-key\"\n",
    "\n",
    "embeddings = OpenAIEmbeddings(model=\"text-embedding-3-large\")\n",
    "vectorstore = Chroma(persist_directory=\"./chroma_db_open\", embedding_function=embeddings)\n",
    "vectorstore.add_documents(all_splits)"
   ]
  },
  {
   "cell_type": "code",
   "execution_count": 27,
   "metadata": {},
   "outputs": [],
   "source": [
    "input = \"Какой сегодня день недели?\"\n",
    "context = vectorstore.similarity_search(input, k = 5)\n",
    "#for doc in context:\n",
    "#   print(doc)\n",
    "context=\"\\n\\n\".join([doc.page_content for doc in context])"
   ]
  },
  {
   "cell_type": "markdown",
   "metadata": {},
   "source": [
    "### Model response"
   ]
  },
  {
   "cell_type": "code",
   "execution_count": null,
   "metadata": {},
   "outputs": [],
   "source": [
    "model = ChatOpenAI(model=\"gpt-4o\")\n",
    "\n",
    "prompt_template = PromptTemplate(\n",
    "    input_variables=[\"context\", \"question\"],\n",
    "    template=\"Ты помощник, который отвечает на вопросы на английском.\\n\\n---\\n\\nИспользуя контекст ниже, ответь на вопрос.\\\n",
    "              Если ответ не найден в документе, ответь 'Я не знаю.'\\\n",
    "              Если нашёл больше одной информации, опиши каждую подробно.\\n\\n---\\n\\nКонтекст:\\n{context}\\n\\nВопрос: {question}\\n\\nОтвет:\"\n",
    ")\n",
    "\n",
    "prompt = prompt_template.format(context=context, question=input)\n",
    "\n",
    "response = model.invoke([HumanMessage(content=prompt)])\n",
    "\n",
    "print(response.content)"
   ]
  }
 ],
 "metadata": {
  "kernelspec": {
   "display_name": "Python 3",
   "language": "python",
   "name": "python3"
  },
  "language_info": {
   "codemirror_mode": {
    "name": "ipython",
    "version": 3
   },
   "file_extension": ".py",
   "mimetype": "text/x-python",
   "name": "python",
   "nbconvert_exporter": "python",
   "pygments_lexer": "ipython3",
   "version": "3.12.7"
  }
 },
 "nbformat": 4,
 "nbformat_minor": 2
}
